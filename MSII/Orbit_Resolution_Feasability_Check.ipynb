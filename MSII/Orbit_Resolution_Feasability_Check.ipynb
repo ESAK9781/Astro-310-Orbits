{
 "cells": [
  {
   "cell_type": "markdown",
   "id": "cf4c7459",
   "metadata": {},
   "source": [
    "Just checking if 2m is a feasible resolution with our current equipment."
   ]
  },
  {
   "cell_type": "code",
   "execution_count": 1,
   "id": "0d84fdb1",
   "metadata": {},
   "outputs": [
    {
     "name": "stdout",
     "output_type": "stream",
     "text": [
      "2m max altitude 1311.4754098360654 km\n",
      "min wl alt: 5176.876617773943 km\n",
      "min wl res: 0.46360000000000007 m\n",
      "max wl alt: 2622.950819672131 km\n",
      "max wl res: 0.9150000000000001 m\n"
     ]
    }
   ],
   "source": [
    "from MSII_Components import *\n",
    "from Formula_Sheet import *\n",
    "from MSII_useful_consts import *\n",
    "import json\n",
    "\n",
    "best_cam = PAYLOADS[0]\n",
    "print(f\"2m max altitude {get_payload_max_height(best_cam, 2)} km\")\n",
    "\n",
    "\n",
    "cam_copy = json.loads(json.dumps(best_cam))\n",
    "cam_copy[\"max_wl\"] = cam_copy[\"min_wl\"]\n",
    "print(f\"min wl alt: {get_payload_max_height(cam_copy, MIN_RESOLUTION)} km\")\n",
    "print(f\"min wl res: {get_payload_resolution(cam_copy, 600)} m\")\n",
    "print(f\"max wl alt: {get_payload_max_height(best_cam, MIN_RESOLUTION)} km\")\n",
    "print(f\"max wl res: {get_payload_resolution(best_cam, 600)} m\")\n",
    "\n",
    "\n",
    "\n"
   ]
  }
 ],
 "metadata": {
  "kernelspec": {
   "display_name": "Python 3",
   "language": "python",
   "name": "python3"
  },
  "language_info": {
   "codemirror_mode": {
    "name": "ipython",
    "version": 3
   },
   "file_extension": ".py",
   "mimetype": "text/x-python",
   "name": "python",
   "nbconvert_exporter": "python",
   "pygments_lexer": "ipython3",
   "version": "3.12.10"
  }
 },
 "nbformat": 4,
 "nbformat_minor": 5
}
