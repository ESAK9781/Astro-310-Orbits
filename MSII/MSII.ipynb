{
 "cells": [
  {
   "cell_type": "markdown",
   "id": "e5538bd1",
   "metadata": {},
   "source": [
    "# MSII Solution Process\n",
    "\n",
    "## About:\n",
    "The Design Project Cadet Handout allows for \"a spreadsheet, computer program (e.g., MatLab) or hand calculations to support your analysis,\" provided that your final submission is \"formatted in such a way that the instructor can see the formulas you are using and the final answers.\" Python is a computational tool of a very similar caliber to MatLab (in the hands of an experienced user), and is thus authorized. A brief in-class discussion with Gen. Thompson confirmed this.\n",
    "\n",
    "I have, to this end, written a fairly comprehensive software library which is capable of computing, among other things, the percent coverage, budget calculations, orbit positions by time, viability assessments, and many other rudimentary computations of a given constellation. The exact code used for the entire project will be included in the submission, any necessary explanations as to how it works.\n",
    "\n",
    "Understand that the code in this notebook will be extremely abstracted and surface level because it relies on the software library (entirely written by me) for all the computations that would truly be considered Astro-related.\n",
    "\n"
   ]
  },
  {
   "cell_type": "markdown",
   "id": "503dd0f8",
   "metadata": {},
   "source": [
    "## MS II Checklist:\n",
    "### Pre-Checklist Constellation Computations:"
   ]
  },
  {
   "cell_type": "markdown",
   "id": "023313f5",
   "metadata": {},
   "source": [
    "#### Import all the necessary code from our custom software library:"
   ]
  },
  {
   "cell_type": "code",
   "execution_count": 1,
   "id": "e3eb845b",
   "metadata": {},
   "outputs": [],
   "source": [
    "# handle all the necessary imports from our custom software library\n",
    "from MSII_Components import *\n",
    "from MSII_useful_consts import *\n",
    "from MSII_Constellation import MSII_Constellation, MSII_Satellite\n",
    "from MSII_Orbit import MSII_Orbit\n",
    "from MSII_Constraints import *\n",
    "from Formula_Sheet import *"
   ]
  },
  {
   "cell_type": "markdown",
   "id": "eabf527f",
   "metadata": {},
   "source": [
    "#### Create a modifyable template of our base constellation (already has good coverage):"
   ]
  },
  {
   "cell_type": "code",
   "execution_count": 2,
   "id": "abfd6243",
   "metadata": {},
   "outputs": [],
   "source": [
    "'''\n",
    "NOTE: We are no longer using the MSI constellation template because we have determined that it is bad. We came up with a new one.\n",
    "for further details, please see MSII_Base_Orbit_Determination.ipynb, where we did all the computations and reasoning.\n",
    "'''\n",
    "\n",
    "# def create_MSI_constellation(payload, adcs, structure):\n",
    "#     msI_a = GEOSYNCHRONOUS_SEMIMAJOR_AXIS # 42241km from MSI\n",
    "#     max_height = get_payload_max_height(payload, MIN_RESOLUTION) # how high can we get and still hit our\n",
    "#     # target resolution (formula derivation done and included on paper) in km\n",
    "\n",
    "#     # from formula sheet: Ra = a(1 + e)\n",
    "#     # it follows: e = (Ra / a) - 1 = ((h + Rearth) / a) - 1\n",
    "#     max_eccentricity = ((max_height + R_EARTH) / msI_a) - 1\n",
    "#     max_eccentricity = abs(max_eccentricity)\n",
    "#     max_eccentricity = 0.834\n",
    "\n",
    "#     return { \n",
    "#         \"payload\": payload,\n",
    "#         \"adcs\": adcs,\n",
    "#         \"structure\": structure,\n",
    "#         \"sats\": [ # we update all the fields that will change with new MSII requirements (just e)\n",
    "#             {\n",
    "#                 \"a\": msI_a,\n",
    "#                 \"e\": max_eccentricity,\n",
    "#                 \"i\": 50.825, # from MSI\n",
    "#                 \"raan\": 340.5, # from MSI\n",
    "#                 \"w\": 245, # from MSI\n",
    "#                 \"v\": 180 # from MSI\n",
    "#             }, {\n",
    "#                 \"a\": msI_a,\n",
    "#                 \"e\": max_eccentricity,\n",
    "#                 \"i\": 50.825, # from MSI\n",
    "#                 \"raan\": 100.5, # from MSI\n",
    "#                 \"w\": 245, # from MSI\n",
    "#                 \"v\": 154.5099795 # from MSI\n",
    "#             }, {\n",
    "#                 \"a\": msI_a,\n",
    "#                 \"e\": max_eccentricity,\n",
    "#                 \"i\": 50.825, # from MSI\n",
    "#                 \"raan\": 220.5, # from MSI\n",
    "#                 \"w\": 245, # from MSI\n",
    "#                 \"v\": 205.4900205 # from MSI\n",
    "#             }\n",
    "#         ]\n",
    "#     }\n",
    "\n",
    "# take a hardware configuration idea, turn it into a constellation\n",
    "def create_geosync_constellation(idea_payload=PAYLOADS[0], idea_adcs=ADCS[2], idea_struct=STRUCTURES[2]) -> MSII_Constellation:\n",
    "    idea = [\"Geo-Sync Perigee\", h_to_sec(24)]\n",
    "\n",
    "    altitude_offset = get_payload_max_height(idea_payload, MIN_RESOLUTION) - (MIN_DRAGLESS_ALTITUDE + 1) # +1 to prevent rounding errors\n",
    "    idea_period = idea[1] # store the target period of the idea\n",
    "    idea_max_h = get_payload_max_height(idea_payload, MIN_RESOLUTION) # how high can we approach from?\n",
    "    \n",
    "    idea_a = period_to_axis(idea_period) # calculate a from period (in seconds)\n",
    "    idea_i = get_avg_latitude(POINTS_OF_INTEREST) # average out the inclinations of each point\n",
    "    if (idea_i < 0):\n",
    "        idea_i += 180 # allow for points south of the equator, should not be a problem\n",
    "    idea_e = perigee_h_to_e(idea_a, idea_max_h - altitude_offset, False) # what is our max eccentricity to get that height?\n",
    "\n",
    "    idea_w = 90 # we want to set argument of perigee to 90 to simplify calculations\n",
    "    if (get_avg_latitude(POINTS_OF_INTEREST) < 0):\n",
    "        idea_w = 270 # allow for points south of the equator, should not be a problem\n",
    "    \n",
    "    idea_sat_coes = []\n",
    "    for sat_num in range(NUM_SATS):\n",
    "        time_on_target = (idea_period / NUM_SATS) * sat_num # stagger the times on target evenly\n",
    "        \n",
    "        sat = {}\n",
    "        sat[\"a\"] = idea_a # initialize all the variables that stay the same accross sats\n",
    "        sat[\"e\"] = idea_e\n",
    "        sat[\"w\"] = idea_w\n",
    "        sat[\"i\"] = idea_i\n",
    "        \n",
    "        # now for the hard bit, we need to change raan and v so they each hit apogee over\n",
    "        # the target points at staggered times\n",
    "        avg_long = get_avg_longitude(POINTS_OF_INTEREST)\n",
    "        # the raan that would put us over the points in BORG at t=0\n",
    "        avg_raan_t_0 = avg_long - INTIAL_EARTH_POS - idea_w\n",
    "        # the raan that would put us over the points in BORG at time on target\n",
    "        avg_raan_t = avg_raan_t_0 + ((360 / DAY_AS_SECONDS) * time_on_target) # assume 24 hour Earth period\n",
    "        sat[\"raan\"] = avg_raan_t # set that as our raan\n",
    "        sat[\"v\"] = calc_v_at_t0_to_hit_perigee_at_t(idea_a, idea_e, time_on_target)\n",
    "        idea_sat_coes.append(sat) # add the satellite coes to our list\n",
    "    \n",
    "    assert(len(idea_sat_coes) == NUM_SATS) # make sure we have the right amount of sats\n",
    "    \n",
    "    idea_constellation_dict = {\n",
    "        \"structure\": idea_struct, # use the best structure by default so it fits the camera for sure\n",
    "        \"adcs\": idea_adcs, # best adcs by default\n",
    "        \"payload\": idea_payload, # same with the imager\n",
    "        \"sats\": idea_sat_coes\n",
    "    }\n",
    "    \n",
    "    return idea_constellation_dict # wrap it all nicely in a constellation dictionary"
   ]
  },
  {
   "cell_type": "markdown",
   "id": "7d49da5e",
   "metadata": {},
   "source": [
    "#### Generate all possible hardware configurations"
   ]
  },
  {
   "cell_type": "code",
   "execution_count": 3,
   "id": "afbf25a0",
   "metadata": {},
   "outputs": [
    {
     "name": "stdout",
     "output_type": "stream",
     "text": [
      "Found 36 possible constellations.\n",
      "Found 24 viable constellation options\n"
     ]
    }
   ],
   "source": [
    "constellation_options = []\n",
    "for payload in PAYLOADS: # find every possible payload-adcs-structure combination\n",
    "    for adcs in ADCS:\n",
    "        for struct in STRUCTURES:\n",
    "            # apply our template from before (which includes modified e computations)\n",
    "            constellation_object = MSII_Constellation(create_geosync_constellation(payload, adcs, struct))\n",
    "            constellation_options.append(constellation_object)\n",
    "\n",
    "# output how many we found\n",
    "print(f\"Found {len(constellation_options)} possible constellations.\")\n",
    "\n",
    "viable_constellation_options = []\n",
    "for constellation in constellation_options:\n",
    "    # filter out all the ones that obviously fail (i.e. out of budget, crash into earth, fail volume constraints)\n",
    "    if (constellation.get_concise_summary().passes_inspection):\n",
    "        viable_constellation_options.append(constellation)\n",
    "    # print(constellation.assess_orbit_viability().to_string()\n",
    "\n",
    "# output how many we found\n",
    "print(f\"Found {len(viable_constellation_options)} viable constellation options\")"
   ]
  },
  {
   "cell_type": "markdown",
   "id": "d9110392",
   "metadata": {},
   "source": [
    "#### Figure out which one has the best coverage\n",
    "Note that the algorithm for this is complicated and is included in the algorithm explanation portion of the project."
   ]
  },
  {
   "cell_type": "code",
   "execution_count": 4,
   "id": "9b6d546e",
   "metadata": {},
   "outputs": [
    {
     "name": "stdout",
     "output_type": "stream",
     "text": [
      "Found constellation with 0.06525% coverage\n",
      "Constellation #1:\n",
      "\tPayload:   Astra Hi-Res Imager\n",
      "\tStructure: Option III\n",
      "\tADCS:      Option II\n",
      "\tORBIT: \n",
      "\t\ta    : 42241.097730143825\n",
      "\t\te    : 0.8347785125143755\n",
      "\t\ti    : 50.824999999999996\n",
      "\t\traan : 290.375\n",
      "\t\tw    : 90\n",
      "\t\tv    : 0.0\n",
      "\tORBIT: \n",
      "\t\ta    : 42241.097730143825\n",
      "\t\te    : 0.8347785125143755\n",
      "\t\ti    : 50.824999999999996\n",
      "\t\traan : 50.375\n",
      "\t\tw    : 90\n",
      "\t\tv    : 146.44029712684926\n",
      "\tORBIT: \n",
      "\t\ta    : 42241.097730143825\n",
      "\t\te    : 0.8347785125143755\n",
      "\t\ti    : 50.824999999999996\n",
      "\t\traan : 170.375\n",
      "\t\tw    : 90\n",
      "\t\tv    : 169.65931160912885\n",
      "\n",
      "Constellation #1 Comprehensive Summary: \n",
      "\tConstellation #1 Concise Summary:\n",
      "\t\tPasses:       True\n",
      "\t\tIn Budget:    True\n",
      "\t\tViable Orbit: True\n",
      "\t\tVolume Fits:  True\n",
      "\t\n",
      "\tConstellation #1 Orbit Viability: VIABLE\n",
      "\t\tORBIT 1\n",
      "\t\t\tCATASTROPHIC?      False\n",
      "\t\t\tDRAGLESS?          True\n",
      "\t\t\tCRASHLESS?         True\n",
      "\t\t\tMax Altitude:      71124.92146028765 km\n",
      "\t\t\tMin Altitude:      600.9999999999991 km\n",
      "\t\t\tIs Geosynchronous: True\n",
      "\t\t\n",
      "\t\tORBIT 2\n",
      "\t\t\tCATASTROPHIC?      False\n",
      "\t\t\tDRAGLESS?          True\n",
      "\t\t\tCRASHLESS?         True\n",
      "\t\t\tMax Altitude:      71124.92146028765 km\n",
      "\t\t\tMin Altitude:      600.9999999999991 km\n",
      "\t\t\tIs Geosynchronous: True\n",
      "\t\t\n",
      "\t\tORBIT 3\n",
      "\t\t\tCATASTROPHIC?      False\n",
      "\t\t\tDRAGLESS?          True\n",
      "\t\t\tCRASHLESS?         True\n",
      "\t\t\tMax Altitude:      71124.92146028765 km\n",
      "\t\t\tMin Altitude:      600.9999999999991 km\n",
      "\t\t\tIs Geosynchronous: True\n",
      "\t\t\n",
      "\t\n",
      "\tConstellation #1 Budgeting:\n",
      "\t\tMargin Meets Budget:  True\n",
      "\t\tCertain Cost:        $94500000\n",
      "\t\tEst. Cost:           $98675000.00000001\n",
      "\t\tCost With Margin:    $108542500.00000003\n",
      "\t\tBudget:              $225000000\n",
      "\t\tMeets Budget:         True\n",
      "\t\tUnallocated Money:   $110045454.54545453\n",
      "\t\n",
      "\tConstellation #1 Volume Summary:\n",
      "\t\tPayload Fits:     True\n",
      "\t\tAvailable Volume: 12 m^3\n",
      "\t\tUsed Volume:      9.0 m^3\n",
      "\t\tRemaining Volume: 3.0 m^3\n",
      "\t\n",
      "\tConstellation #1 Point Coverage:\n",
      "\t\tCan Point Within SW:     True\n",
      "\t\t% Coverage:              0.06525%\n",
      "\t\tPoints Sampled:          4000\n",
      "\t\tPoints in range and LOS: 261\n",
      "\t\tPoints in range:         261\n",
      "\t\tPoints in LOS:           3438\n",
      "\t\tClosest Approach:        645.6932510674051 km\n",
      "\t\n",
      "\n"
     ]
    }
   ],
   "source": [
    "# we are having slight issues with our coverage computation algorithm, probably something to do with the\n",
    "# fact that the Earth position and the orbits are out of sync \n",
    "\n",
    "best_coverage = 0 # assume zero coverage to start, update later\n",
    "best_constellation = None\n",
    "\n",
    "for constellation in viable_constellation_options:\n",
    "    constellation : MSII_Constellation\n",
    "    coverage_report = constellation.assess_coverage()\n",
    "    if (not coverage_report.adcs_cam_compatible):\n",
    "        # our pointing accuracy is so bad we cannot reliably point at anything\n",
    "        # therefore, do not count this option's coverage in the contest\n",
    "        continue\n",
    "\n",
    "    if (coverage_report.percent_coverage > best_coverage):\n",
    "        best_coverage = coverage_report.percent_coverage\n",
    "        best_constellation = constellation\n",
    "    elif (coverage_report.percent_coverage == best_coverage):\n",
    "        # if they have the same coverage but one is cheaper, choose that one\n",
    "        if (best_constellation.assess_budget().cost > constellation.assess_budget().cost):\n",
    "            best_coverage = coverage_report.percent_coverage\n",
    "            best_constellation = constellation\n",
    "\n",
    "\n",
    "print(f\"Found constellation with {best_coverage}% coverage\")\n",
    "\n",
    "# output the constellation\n",
    "print(best_constellation.to_string(\"#1\"))\n",
    "print(best_constellation.get_comprehensive_summary().to_string(\"#1\"))\n",
    "\n",
    "\n"
   ]
  },
  {
   "cell_type": "markdown",
   "id": "31034d7c",
   "metadata": {},
   "source": [
    "## Alright! Now that we have our orbit, we can prove it against the checklist."
   ]
  },
  {
   "cell_type": "markdown",
   "id": "67ef930c",
   "metadata": {},
   "source": [
    "#### 7. Finalize your payload choice based on mission requirements and sensor specifications:"
   ]
  },
  {
   "cell_type": "code",
   "execution_count": 5,
   "id": "e2ee002e",
   "metadata": {},
   "outputs": [
    {
     "name": "stdout",
     "output_type": "stream",
     "text": [
      "{\n",
      "  \"name\": \"Astra Hi-Res Imager\",\n",
      "  \"min_wl\": 3.8e-07,\n",
      "  \"max_wl\": 7.5e-07,\n",
      "  \"det_rad\": 0.15,\n",
      "  \"fl\": 4,\n",
      "  \"aperture\": 1.2,\n",
      "  \"hor_pix\": 30000,\n",
      "  \"vert_pix\": 500,\n",
      "  \"bit_pix\": 12,\n",
      "  \"length\": 2,\n",
      "  \"width\": 1.5,\n",
      "  \"height\": 3,\n",
      "  \"tot_mass\": 200,\n",
      "  \"tot_pow\": 225,\n",
      "  \"cost\": 31000000,\n",
      "  \"delivery\": 12\n",
      "}\n"
     ]
    }
   ],
   "source": [
    "import json\n",
    "print(json.dumps(best_constellation.payload, indent=2)) # output our finalized payload choice"
   ]
  },
  {
   "cell_type": "markdown",
   "id": "9a5f102d",
   "metadata": {},
   "source": [
    "a. Choose the required resolution for your mission. Details of the target of interest are\n",
    "included in the Appendix of the Design Project handout. Remember that resolution\n",
    "defines the distance needed to distinguish objects. Think about what you must be able\n",
    "to see to positively identify the target(s) associated with your mission.\n",
    "\n",
    "We require a resolution of 4m because that is the width of the tanks we are looking to spot. "
   ]
  },
  {
   "cell_type": "code",
   "execution_count": 6,
   "id": "86de010c",
   "metadata": {},
   "outputs": [
    {
     "name": "stdout",
     "output_type": "stream",
     "text": [
      "Min Resolution: 4 m\n"
     ]
    }
   ],
   "source": [
    "print(f\"Min Resolution: {MIN_RESOLUTION} m\") # we stored it as a constant for computations"
   ]
  },
  {
   "cell_type": "markdown",
   "id": "a196719d",
   "metadata": {},
   "source": [
    "b. Select a payload from Table 2 and note the range of wavelengths.\n",
    "\n",
    "We selected the Astra High-Res Imager, because it has the lowest max wavelength. This increases our resolution at higher altitudes."
   ]
  },
  {
   "cell_type": "code",
   "execution_count": 7,
   "id": "d5275b4b",
   "metadata": {},
   "outputs": [
    {
     "name": "stdout",
     "output_type": "stream",
     "text": [
      "Name:           Astra Hi-Res Imager\n",
      "Max Wavelength: 7.5e-07 m\n",
      "Min Wavelength: 3.8e-07 m\n"
     ]
    }
   ],
   "source": [
    "print(f\"Name:           {best_constellation.payload[\"name\"]}\")\n",
    "print(f\"Max Wavelength: {best_constellation.payload[\"max_wl\"]} m\")\n",
    "print(f\"Min Wavelength: {best_constellation.payload[\"min_wl\"]} m\")"
   ]
  },
  {
   "cell_type": "markdown",
   "id": "50cf60fb",
   "metadata": {},
   "source": [
    "c. Calculate required orbital altitudes based on your selected mission resolution and the\n",
    "range of wavelengths. Select a specific mission orbit altitude using these constraints.\n",
    "You must meet the resolution requirement at both the min and max wavelength and at\n",
    "the min and max mission altitude (if using an elliptical orbit).\n",
    "\n",
    "We designed our orbit such that it is always at perigee when it goes over the points (without fail), and such that it is always at the mission altitude when it reaches perigee. See MSII_Base_Orbit_Determination.ipynb for details on how this was ensured. See Formula_Sheet.py for the exact formula used to compute mission altitude. The requirement to meet the resolution requirement at apogee too is clearly for orbits that are not properly synchronized with the 24 hour period of the Earth. Ours is, meaning that -- without fail -- our apogee is somewhere over the Pacific Ocean. There is no need to have 4m resolution images of the Pacific Ocean at this point in time. Details for why an orbit entirely within mission altitude is a bad idea are also included in MSII_Base_Orbit_Determination.ipynb."
   ]
  },
  {
   "cell_type": "code",
   "execution_count": 8,
   "id": "9ede548c",
   "metadata": {},
   "outputs": [
    {
     "name": "stdout",
     "output_type": "stream",
     "text": [
      "Required Orbital Altitude: 1074.9798441279227 km\n",
      "Chosen Mission Orbital Altitude: 600 km\n"
     ]
    }
   ],
   "source": [
    "# this uses the max wavelength. Because we have to hit our target resolution at both our min and max wavelength,\n",
    "# and because our resolution at max wavelength is always lower than at min wavelength, our maximum altitude is \n",
    "# really only going to be dictated by max wavelength. The minimum wavelength is completely irrelevant to our orbit\n",
    "# altitudes\n",
    "print(f\"Required Orbital Altitude: {get_payload_max_height(best_constellation.payload, MIN_RESOLUTION)} km\")\n",
    "\n",
    "# According to class, negligible drag starts at 600km out. This is interesting. Really, there is no reason to \n",
    "# go any higher than this at perigee, because by bringing perigee down to 600km, we can increase the section of \n",
    "# our orbit where we can see the points. Because of this:\n",
    "mission_alt = 600\n",
    "print(f\"Chosen Mission Orbital Altitude: {mission_alt} km\")"
   ]
  },
  {
   "cell_type": "markdown",
   "id": "64c09524",
   "metadata": {},
   "source": [
    "d. Calculate field of view and swath width for your chosen mission altitude and payload.\n",
    "\n",
    "Will do! See Formula_Sheet.py for the exact formulas used for this and many other things."
   ]
  },
  {
   "cell_type": "code",
   "execution_count": 9,
   "id": "1045d7ef",
   "metadata": {},
   "outputs": [
    {
     "name": "stdout",
     "output_type": "stream",
     "text": [
      "Swath Width at Mission Altitude: 45.0 km\n",
      "Selected Payload FOV: 4.295170856597006 deg\n"
     ]
    }
   ],
   "source": [
    "# call the corresponding functions from our formula sheet\n",
    "print(f\"Swath Width at Mission Altitude: {calc_swath_width(best_constellation.payload, mission_alt)} km\")\n",
    "print(f\"Selected Payload FOV: {calc_payload_fov(best_constellation.payload)} deg\")"
   ]
  },
  {
   "cell_type": "markdown",
   "id": "b00907dd",
   "metadata": {},
   "source": [
    "#### 8. Update the Classical Orbital Elements for each satellite in the constellation.\n",
    "\n",
    "a. Calculate the eccentricity and semi-major axis for each orbit. Decide whether the\n",
    "mission orbit for each satellite should be circular or elliptical. The eccentricities of the\n",
    "orbits can be the same, or they may be different based on the choices made in\n",
    "paragraph 1 above.\n",
    "\n",
    "We already did this when we were designing our orbit template in MSII_Base_Orbit_Determination.ipynb, but we will reproduce the process here for clarity. All formulas for this, you are reminded, can be found in the Formula_Sheet.py file. We did elliptical so we can stay geosynchronous while still flying over the points at mission altitude."
   ]
  },
  {
   "cell_type": "code",
   "execution_count": 10,
   "id": "fa645931",
   "metadata": {},
   "outputs": [
    {
     "name": "stdout",
     "output_type": "stream",
     "text": [
      "a: 42241.097730143825 km\n",
      "e: 0.8348021861415712\n"
     ]
    }
   ],
   "source": [
    "semimajor_axis = period_to_axis(h_to_sec(24)) # convert our 24 hour period to a\n",
    "eccentricity = perigee_h_to_e(semimajor_axis, 600, False) # what is our max eccentricity to get that height at perigee?\n",
    "\n",
    "# we use these same values for each orbit\n",
    "print(f\"a: {semimajor_axis} km\")\n",
    "print(f\"e: {eccentricity}\")"
   ]
  },
  {
   "cell_type": "markdown",
   "id": "aa232299",
   "metadata": {},
   "source": [
    "b. Select the inclination for each mission orbit. Ensure the constellation provides\n",
    "suitable coverage of the assigned monitoring area.\n",
    "\n",
    "This is easy, just take the average latitude of all the points. Again, done elsewhere already, reproduced below for clarity."
   ]
  },
  {
   "cell_type": "code",
   "execution_count": 11,
   "id": "4fecb35f",
   "metadata": {},
   "outputs": [
    {
     "name": "stdout",
     "output_type": "stream",
     "text": [
      "i: 50.824999999999996 deg\n"
     ]
    }
   ],
   "source": [
    "inclination = get_avg_latitude(POINTS_OF_INTEREST)\n",
    "print(f\"i: {inclination} deg\")"
   ]
  },
  {
   "cell_type": "markdown",
   "id": "152ea691",
   "metadata": {},
   "source": [
    "c. Choose a value for Right Ascension of the Ascending Node (or Special Case COE)\n",
    "for each orbit. This should be based on the overall constellation design and\n",
    "consideration for how often the target area may be in-view of your satellites. Note: You\n",
    "do not need to do any calculations related to re-visit time.\n",
    "\n",
    "This has already been covered exhaustively in MSII_Base_Orbit_Determination.ipynb, which is attached with this submission. Because I took an extremely mathematical approach, reproducing it here is impractical. The entire orbit design process is already documented there. Here is my selected values:"
   ]
  },
  {
   "cell_type": "code",
   "execution_count": 12,
   "id": "01936928",
   "metadata": {},
   "outputs": [
    {
     "name": "stdout",
     "output_type": "stream",
     "text": [
      "RAAN: 290.375 deg\n",
      "RAAN: 50.375 deg\n",
      "RAAN: 170.375 deg\n"
     ]
    }
   ],
   "source": [
    "for sat in best_constellation.sats:\n",
    "    print(f\"RAAN: {sat.orbit.raan} deg\")"
   ]
  },
  {
   "cell_type": "markdown",
   "id": "e1b3aa62",
   "metadata": {},
   "source": [
    "d. Choose a value for Argument of Perigee (or Special Case COE) as appropriate for\n",
    "each orbit.\n",
    "\n",
    "Again, same deal."
   ]
  },
  {
   "cell_type": "code",
   "execution_count": 13,
   "id": "d2ab738f",
   "metadata": {},
   "outputs": [
    {
     "name": "stdout",
     "output_type": "stream",
     "text": [
      "Argument of Perigee: 90 deg\n",
      "Argument of Perigee: 90 deg\n",
      "Argument of Perigee: 90 deg\n"
     ]
    }
   ],
   "source": [
    "for sat in best_constellation.sats:\n",
    "    print(f\"Argument of Perigee: {sat.orbit.w} deg\")"
   ]
  },
  {
   "cell_type": "markdown",
   "id": "b69ec86f",
   "metadata": {},
   "source": [
    "e. Choose an initial value for True Anomaly (or Special Case COE) as appropriate for\n",
    "each satellite.\n",
    "\n",
    "The math for this one in particular, is quite insane. PLEASE consult the MSII_Base_Orbit_Determination.ipynb, it contains the vast majority of the computational heavy lifting. Also, see the \"calc_v_at_t0_to_hit_perigee_at_t\" function defined in Formula_Sheet.py, it has most of the actual formulas for this, along with detailed explanations of how it all works. The answers derived from those computations are below."
   ]
  },
  {
   "cell_type": "code",
   "execution_count": 14,
   "id": "ba162088",
   "metadata": {},
   "outputs": [
    {
     "name": "stdout",
     "output_type": "stream",
     "text": [
      "True Anomaly: 0.0 deg\n",
      "True Anomaly: 146.44029712684926 deg\n",
      "True Anomaly: 169.65931160912885 deg\n"
     ]
    }
   ],
   "source": [
    "for sat in best_constellation.sats:\n",
    "    print(f\"True Anomaly: {sat.orbit.v} deg\")"
   ]
  },
  {
   "cell_type": "markdown",
   "id": "7a61fa54",
   "metadata": {},
   "source": [
    "#### 9. Select a structure for each satellite from Table 4. Your payload must fit inside your structure’s internal payload volume.\n",
    "\n",
    "We kind of picked all three components together as a package deal. We tested each possible combination of adcs, payload, and structure, and picked the one that was the best. Here is the breakdown:"
   ]
  },
  {
   "cell_type": "code",
   "execution_count": 15,
   "id": "54af3b25",
   "metadata": {},
   "outputs": [
    {
     "name": "stdout",
     "output_type": "stream",
     "text": [
      "Chosen Structure: {\n",
      "  \"name\": \"Option III\",\n",
      "  \"internal volume\": [\n",
      "    2,\n",
      "    2,\n",
      "    3\n",
      "  ],\n",
      "  \"external side length\": 3.5,\n",
      "  \"spring constant\": 34000000.0,\n",
      "  \"mass\": 215,\n",
      "  \"cost\": 125000,\n",
      "  \"delivery\": 5\n",
      "}\n",
      "\n",
      "\n",
      "Constellation #1 Volume Summary:\n",
      "\tPayload Fits:     True\n",
      "\tAvailable Volume: 12 m^3\n",
      "\tUsed Volume:      9.0 m^3\n",
      "\tRemaining Volume: 3.0 m^3\n",
      "\n"
     ]
    }
   ],
   "source": [
    "print(\"Chosen Structure: \" + json.dumps(best_constellation.structure, indent=2))\n",
    "print(\"\\n\")\n",
    "# see MSII_Constellation.py and MSII_Constraints Volume Summary for this function definition\n",
    "# it is pretty simple / straightforward, though\n",
    "print(best_constellation.assess_volume().to_string(\"#1\")) "
   ]
  },
  {
   "cell_type": "markdown",
   "id": "9a0960ab",
   "metadata": {},
   "source": [
    "#### 10. Select an Attitude Determination and Control Subsystem (ADCS) from Table 5 and calculate the worst-case ground pointing accuracy (GPA) using the angular pointing accuracy of the ADCS option selected.\n",
    "\n",
    "Done, done, and done! Again, we picked a combination of adcs, payload, and structure. We picked this by testing every possible combination. That work is shown at the top of this file."
   ]
  },
  {
   "cell_type": "code",
   "execution_count": 16,
   "id": "56f847e3",
   "metadata": {},
   "outputs": [
    {
     "name": "stdout",
     "output_type": "stream",
     "text": [
      "Chosen ADCS: {\n",
      "  \"name\": \"Option II\",\n",
      "  \"pointing accuracy\": 0.035,\n",
      "  \"power\": 40,\n",
      "  \"mass\": 28,\n",
      "  \"cost\": 375000,\n",
      "  \"delivery\": 6\n",
      "}\n",
      "\n",
      "\n",
      "Ground Pointing Accuracy (worst case): 21.000000000000004 km\n"
     ]
    }
   ],
   "source": [
    "print(\"Chosen ADCS: \" + json.dumps(best_constellation.adcs, indent=2))\n",
    "print(\"\\n\")\n",
    "\n",
    "print(f\"Ground Pointing Accuracy (worst case): {get_ground_pointing_accuracy(best_constellation.adcs, mission_alt)} km\")"
   ]
  }
 ],
 "metadata": {
  "kernelspec": {
   "display_name": "Python 3",
   "language": "python",
   "name": "python3"
  },
  "language_info": {
   "codemirror_mode": {
    "name": "ipython",
    "version": 3
   },
   "file_extension": ".py",
   "mimetype": "text/x-python",
   "name": "python",
   "nbconvert_exporter": "python",
   "pygments_lexer": "ipython3",
   "version": "3.13.1"
  }
 },
 "nbformat": 4,
 "nbformat_minor": 5
}
